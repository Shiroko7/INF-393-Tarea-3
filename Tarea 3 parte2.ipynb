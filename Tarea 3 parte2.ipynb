{
 "cells": [
  {
   "cell_type": "markdown",
   "metadata": {},
   "source": [
    "<img src=\"http://www.exalumnos.usm.cl/wp-content/uploads/2015/06/Isotipo-Negro.gif\" title=\"Title text\" width=\"20%\" height=\"20%\" />\n",
    "\n",
    "\n",
    "<hr style=\"height:2px;border:none\"/>\n",
    "<h1 align='center'> Tarea 3 - Ensamblados y modelos avanzados</h1>\n",
    "\n",
    "<H3 align='center'> <i>Felipe Olavarria, Rol:201673606-9</i> </H3>\n",
    "<H3 align='center'> <i>Jean Aravena, Rol:201673573-9</i> </H3>\n",
    "<hr style=\"height:2px;border:none\"/>"
   ]
  },
  {
   "cell_type": "code",
   "execution_count": 58,
   "metadata": {},
   "outputs": [],
   "source": [
    "import pandas as pd\n",
    "import numpy as np\n",
    "from scipy import stats\n",
    "import matplotlib.pyplot as plt\n",
    "import seaborn as sns\n",
    "import re, time\n",
    "from nltk.corpus import stopwords\n",
    "from nltk import WordNetLemmatizer, word_tokenize"
   ]
  },
  {
   "cell_type": "markdown",
   "metadata": {},
   "source": [
    "## 2. Detección de acoso en *Twitter*\n",
    "---\n",
    "En las redes sociales muchas veces se encuentra con un cierto comportamiento indeseable para los usuarios, tal como racismo, misógeno, grupos de odio o *trolls*. El poder detectar de manera automática ciertos patrones en el comportamiento para tomar una acción debe ser crucial para reducir el tiempo y esfuerzo humano. En esta actividad se trabajará sobre *tweets* la red social de *twitter* para detectar comportamiento *online* de acoso (*harassment*), que por lo general, incluye *flaming* como lenguaje abusivo o insultos, *doxing* como mostrar la información personal de una mujer, por ejemplo el domicilio o número de teléfono, la suplantación o la vergüenza pública por destruir la reputación de las personas.\n",
    "\n",
    "<img src=\"https://kidshelpline.com.au/sites/default/files/bdl_image/header-T-OH.png\" title=\"Title text\" width=\"45%\"  />\n",
    "\n",
    "En algunos problemas como este, el comportamiento a detectar puede ser asociado a una anomalía (*outlier*) del comportamiento normal de los usuarios en las redes sociales. Esto es una de las causas de la dificultad del problema, puesto que es **altamente desbalanceado**, donde aproximadamente un 10% de los *tweets* corresponden a acoso (*harassment*).\n",
    "\n",
    "Los datos trabajados corresponderan a *tweets* etiquetados como *harassment* (con valor 1) o no (con valor 0) -- la tarea a detectar--. Además si desea utilizar, se incluye la información del tipo de *harassment* en el conjunto de entrenamiento como atributos extras. El conjunto de pruebas solo contiene los *tweets* a ser etiquetados."
   ]
  },
  {
   "cell_type": "code",
   "execution_count": 53,
   "metadata": {},
   "outputs": [
    {
     "data": {
      "text/plain": [
       "Index(['id', 'tweet_content', 'harassment', 'IndirectH', 'PhysicalH',\n",
       "       'SexualH'],\n",
       "      dtype='object')"
      ]
     },
     "execution_count": 53,
     "metadata": {},
     "output_type": "execute_result"
    }
   ],
   "source": [
    "#Train df\n",
    "df_train = pd.read_csv(\"Train_data.csv\")\n",
    "\n",
    "df_train_text = df_train.tweet_content\n",
    "labels_train = df_train.harassment.values\n",
    "\n",
    "#Test df\n",
    "df_test = pd.read_csv(\"Test_input.csv\")\n",
    "\n",
    "df_test_text = df_train.tweet_content\n",
    "labels_test = df_train.harassment.values\n",
    "\n",
    "df_train.columns"
   ]
  },
  {
   "cell_type": "code",
   "execution_count": 54,
   "metadata": {},
   "outputs": [
    {
     "data": {
      "text/plain": [
       "(5703, 6)"
      ]
     },
     "execution_count": 54,
     "metadata": {},
     "output_type": "execute_result"
    }
   ],
   "source": [
    "df_train.shape"
   ]
  },
  {
   "cell_type": "markdown",
   "metadata": {},
   "source": [
    "***Tenemos 5703 datos diferentes en el dataset, cada uno con 6 atributos.***"
   ]
  },
  {
   "cell_type": "code",
   "execution_count": 55,
   "metadata": {},
   "outputs": [
    {
     "name": "stdout",
     "output_type": "stream",
     "text": [
      "<class 'pandas.core.frame.DataFrame'>\n",
      "RangeIndex: 5703 entries, 0 to 5702\n",
      "Data columns (total 6 columns):\n",
      "id               5703 non-null int64\n",
      "tweet_content    5703 non-null object\n",
      "harassment       5703 non-null int64\n",
      "IndirectH        5703 non-null int64\n",
      "PhysicalH        5703 non-null int64\n",
      "SexualH          5703 non-null int64\n",
      "dtypes: int64(5), object(1)\n",
      "memory usage: 267.4+ KB\n"
     ]
    }
   ],
   "source": [
    "df_train.info()"
   ]
  },
  {
   "cell_type": "markdown",
   "metadata": {},
   "source": [
    "***Se muestra el resumen del dataframe, en el cual no existen registros nulos para ninguna de las 6 columnas.\n",
    "Además se informa el tipo de dato que presenta cada una de los atributos y la memoria utilizada.***"
   ]
  },
  {
   "cell_type": "code",
   "execution_count": 56,
   "metadata": {},
   "outputs": [
    {
     "data": {
      "text/html": [
       "<div>\n",
       "<style scoped>\n",
       "    .dataframe tbody tr th:only-of-type {\n",
       "        vertical-align: middle;\n",
       "    }\n",
       "\n",
       "    .dataframe tbody tr th {\n",
       "        vertical-align: top;\n",
       "    }\n",
       "\n",
       "    .dataframe thead th {\n",
       "        text-align: right;\n",
       "    }\n",
       "</style>\n",
       "<table border=\"1\" class=\"dataframe\">\n",
       "  <thead>\n",
       "    <tr style=\"text-align: right;\">\n",
       "      <th></th>\n",
       "      <th>id</th>\n",
       "      <th>harassment</th>\n",
       "      <th>IndirectH</th>\n",
       "      <th>PhysicalH</th>\n",
       "      <th>SexualH</th>\n",
       "    </tr>\n",
       "  </thead>\n",
       "  <tbody>\n",
       "    <tr>\n",
       "      <th>count</th>\n",
       "      <td>5703.000000</td>\n",
       "      <td>5703.000000</td>\n",
       "      <td>5703.000000</td>\n",
       "      <td>5703.000000</td>\n",
       "      <td>5703.000000</td>\n",
       "    </tr>\n",
       "    <tr>\n",
       "      <th>mean</th>\n",
       "      <td>6562.964229</td>\n",
       "      <td>0.096265</td>\n",
       "      <td>0.022094</td>\n",
       "      <td>0.019639</td>\n",
       "      <td>0.054533</td>\n",
       "    </tr>\n",
       "    <tr>\n",
       "      <th>std</th>\n",
       "      <td>2529.460613</td>\n",
       "      <td>0.294980</td>\n",
       "      <td>0.147001</td>\n",
       "      <td>0.138768</td>\n",
       "      <td>0.227086</td>\n",
       "    </tr>\n",
       "    <tr>\n",
       "      <th>min</th>\n",
       "      <td>2123.000000</td>\n",
       "      <td>0.000000</td>\n",
       "      <td>0.000000</td>\n",
       "      <td>0.000000</td>\n",
       "      <td>0.000000</td>\n",
       "    </tr>\n",
       "    <tr>\n",
       "      <th>25%</th>\n",
       "      <td>4367.500000</td>\n",
       "      <td>0.000000</td>\n",
       "      <td>0.000000</td>\n",
       "      <td>0.000000</td>\n",
       "      <td>0.000000</td>\n",
       "    </tr>\n",
       "    <tr>\n",
       "      <th>50%</th>\n",
       "      <td>6583.000000</td>\n",
       "      <td>0.000000</td>\n",
       "      <td>0.000000</td>\n",
       "      <td>0.000000</td>\n",
       "      <td>0.000000</td>\n",
       "    </tr>\n",
       "    <tr>\n",
       "      <th>75%</th>\n",
       "      <td>8835.500000</td>\n",
       "      <td>0.000000</td>\n",
       "      <td>0.000000</td>\n",
       "      <td>0.000000</td>\n",
       "      <td>0.000000</td>\n",
       "    </tr>\n",
       "    <tr>\n",
       "      <th>max</th>\n",
       "      <td>10620.000000</td>\n",
       "      <td>1.000000</td>\n",
       "      <td>1.000000</td>\n",
       "      <td>1.000000</td>\n",
       "      <td>1.000000</td>\n",
       "    </tr>\n",
       "  </tbody>\n",
       "</table>\n",
       "</div>"
      ],
      "text/plain": [
       "                 id   harassment    IndirectH    PhysicalH      SexualH\n",
       "count   5703.000000  5703.000000  5703.000000  5703.000000  5703.000000\n",
       "mean    6562.964229     0.096265     0.022094     0.019639     0.054533\n",
       "std     2529.460613     0.294980     0.147001     0.138768     0.227086\n",
       "min     2123.000000     0.000000     0.000000     0.000000     0.000000\n",
       "25%     4367.500000     0.000000     0.000000     0.000000     0.000000\n",
       "50%     6583.000000     0.000000     0.000000     0.000000     0.000000\n",
       "75%     8835.500000     0.000000     0.000000     0.000000     0.000000\n",
       "max    10620.000000     1.000000     1.000000     1.000000     1.000000"
      ]
     },
     "execution_count": 56,
     "metadata": {},
     "output_type": "execute_result"
    }
   ],
   "source": [
    "df_train.describe()"
   ]
  },
  {
   "cell_type": "markdown",
   "metadata": {},
   "source": [
    "***El método df.describe() genera estadísticas descriptivas del dataframe en cuestión. Se informa el valor promedio, dispersión y la forma de la distribución de los datos según atributo.***"
   ]
  },
  {
   "cell_type": "code",
   "execution_count": 57,
   "metadata": {},
   "outputs": [],
   "source": [
    "from sklearn.model_selection import train_test_split\n",
    "\n",
    "c = df_train.shape[0] # 5703 datos\n",
    "d = int(c * 0.3) # 1710 datos en df_val_text y 3993 datos en df_train_text\n",
    "\n",
    "df_train_text, df_val_text, labels_train, labels_val  = train_test_split(df_train_text, labels_train, test_size = d, random_state=0)\n"
   ]
  },
  {
   "cell_type": "markdown",
   "metadata": {},
   "source": [
    "***El tamaño de entrenamiento correspondera al 70% de los datos.***"
   ]
  },
  {
   "cell_type": "markdown",
   "metadata": {},
   "source": [
    "> Se realiza un pre-procesamiento a los textos para normalizar un poco su estructura, donde se pasa el texto a minúsculas (lower-casing), se reducen las mútliples letras, se eliminan palabras sin significados como artículos, pronombres y preposiciones (stop word removal), además de pasar las palabras a su tronco léxico con la técnica de lemmatizer"
   ]
  },
  {
   "cell_type": "code",
   "execution_count": 59,
   "metadata": {},
   "outputs": [],
   "source": [
    "def base_word(word):\n",
    "    wordlemmatizer = WordNetLemmatizer()\n",
    "    return wordlemmatizer.lemmatize(word) \n",
    "def word_extractor(text):\n",
    "    commonwords = stopwords.words('english')\n",
    "    text = re.sub(r'([a-z])\\1+', r'\\1\\1',text) #substitute multiple letter by two\n",
    "    words = \"\"\n",
    "    wordtokens = [ base_word(word.lower()) for word in word_tokenize(text) ]\n",
    "    for word in wordtokens:\n",
    "        if word not in commonwords: #delete stopwords\n",
    "            words+=\" \"+word\n",
    "    return words\n",
    "\n",
    "texts_train = [word_extractor(text) for text in df_train_text]\n",
    "texts_val = [word_extractor(text) for text in df_val_text]\n",
    "texts_test = [word_extractor(text) for text in df_test_text]"
   ]
  },
  {
   "cell_type": "markdown",
   "metadata": {},
   "source": [
    "> Se construye una representación vectorial a los textos de entrada para poder ser manejados y clasificados por los modelos de aprendizaje. "
   ]
  },
  {
   "cell_type": "code",
   "execution_count": 62,
   "metadata": {},
   "outputs": [],
   "source": [
    "from sklearn.feature_extraction.text import CountVectorizer\n",
    "vectorizer = CountVectorizer(ngram_range=(1, 1), binary=False) #TF representation\n",
    "vectorizer.fit(texts_train)\n",
    "\n",
    "features_train = vectorizer.transform(texts_train)\n",
    "features_val = vectorizer.transform(texts_val)\n",
    "features_test = vectorizer.transform(texts_test)\n",
    "\n",
    "\n",
    "vocab = vectorizer.get_feature_names()"
   ]
  },
  {
   "cell_type": "markdown",
   "metadata": {},
   "source": [
    "> Se entrena un modelo de Regresión Logística Regularizado (utilizando como penalizador la norma $l_2$), encontrando el parámetro C óptimo para el algoritmo."
   ]
  },
  {
   "cell_type": "code",
   "execution_count": 63,
   "metadata": {},
   "outputs": [
    {
     "data": {
      "image/png": "[encoded data removed]",
      "text/plain": [
       "<Figure size 720x360 with 1 Axes>"
      ]
     },
     "metadata": {
      "needs_background": "light"
     },
     "output_type": "display_data"
    },
    {
     "name": "stdout",
     "output_type": "stream",
     "text": [
      "Máximo test_acc: 0.9117, C óptimo: 10.0\n",
      "\t train_acc: 0.9995\n"
     ]
    }
   ],
   "source": [
    "from sklearn.linear_model import LogisticRegression\n",
    "def do_LOGIT(x,y,xv,yv, param):\n",
    "    #print(\"Param C= \",param)\n",
    "    model= LogisticRegression(solver = 'liblinear')\n",
    "    model.set_params(C=param)\n",
    "    model.fit(x,y)\n",
    "    train_acc = model.score(x,y)\n",
    "    test_acc = model.score(xv,yv)\n",
    "    return model, train_acc, test_acc\n",
    "Cs = [10**i for i in np.arange(-10,10,1).astype(float)]\n",
    "\n",
    "ltrain = list()\n",
    "ltest  = list()\n",
    "for i in Cs:\n",
    "    model, train_acc, test_acc = do_LOGIT(features_train,labels_train,features_val,labels_val, param = i)\n",
    "    ltrain.append(train_acc)\n",
    "    ltest.append(test_acc)\n",
    "\n",
    "plt.figure(figsize=(10,5))\n",
    "plt.semilogx(Cs, ltrain, c = 'green', label = 'train_acc')\n",
    "plt.semilogx(Cs, ltest, c = 'blue', label = 'test_acc(val)')\n",
    "plt.ylabel(\"Accuracy\")\n",
    "plt.xlabel(\"C\")\n",
    "plt.legend()\n",
    "plt.show()\n",
    "\n",
    "#####\n",
    "print(\"Máximo test_acc: \"+str(round(max(ltest),4)) + \", C óptimo: \"+ str(round(Cs[ltest.index(max(ltest))],4)))\n",
    "print(\"\\t train_acc: \"+str(round(ltrain[ltest.index(max(ltest))],4)))"
   ]
  },
  {
   "cell_type": "code",
   "execution_count": 76,
   "metadata": {},
   "outputs": [],
   "source": [
    "#Regresión Logística Regularizado C = 10\n",
    "model, train_acc, test_acc = do_LOGIT(features_train,labels_train,features_test,labels_test, param = 10)\n",
    "\n",
    "y_pred = model.predict(features_val)"
   ]
  },
  {
   "cell_type": "code",
   "execution_count": 73,
   "metadata": {},
   "outputs": [
    {
     "data": {
      "text/plain": [
       "0.43445692883895126"
      ]
     },
     "execution_count": 73,
     "metadata": {},
     "output_type": "execute_result"
    }
   ],
   "source": [
    "from  sklearn.metrics import f1_score\n",
    "f1_score(labels_val, y_pred, average='binary')"
   ]
  },
  {
   "cell_type": "code",
   "execution_count": 77,
   "metadata": {},
   "outputs": [
    {
     "name": "stderr",
     "output_type": "stream",
     "text": [
      "C:\\Users\\FAMILIA\\Anaconda3\\lib\\site-packages\\sklearn\\svm\\base.py:193: FutureWarning: The default value of gamma will change from 'auto' to 'scale' in version 0.22 to account better for unscaled features. Set gamma explicitly to 'auto' or 'scale' to avoid this warning.\n",
      "  \"avoid this warning.\", FutureWarning)\n"
     ]
    },
    {
     "data": {
      "image/png": "[encoded data removed]",
      "text/plain": [
       "<Figure size 1440x432 with 1 Axes>"
      ]
     },
     "metadata": {
      "needs_background": "light"
     },
     "output_type": "display_data"
    },
    {
     "name": "stdout",
     "output_type": "stream",
     "text": [
      "\n",
      "Máximo test_acc kernel=rbf (gaussiano): 0.9094, C óptimo: 1000.0\n",
      "\t train_acc kernel=rbf (gaussiano): 0.9762\n"
     ]
    }
   ],
   "source": [
    "from sklearn.svm import SVC as SVM #SVC is for classification\n",
    "def do_SVM(x,y,xv,yv, param, kernel,param2=3):\n",
    "    #print(\"Param C= \",C, 'Kernel= ', kernel)\n",
    "    model= SVM()\n",
    "    model.set_params(C=param,kernel=kernel,degree=param2) #try rbf and linear at least\n",
    "    model.fit(x,y)\n",
    "    train_acc = model.score(x,y)\n",
    "    test_acc = model.score(xv,yv)\n",
    "    return model, train_acc, test_acc\n",
    "Cs = [10**i for i in np.arange(-4,4).astype(float)]\n",
    "\n",
    "ltrain_r = list()\n",
    "ltest_r = list()\n",
    "for i in Cs:\n",
    "    model, train_acc, test_acc = do_SVM(features_train,labels_train,features_val,labels_val, param = i,kernel=\"rbf\")\n",
    "    ltrain_r.append(train_acc)\n",
    "    ltest_r.append(test_acc)\n",
    "    \n",
    "plt.figure(figsize=(20,6))\n",
    "\n",
    "plt.semilogx(Cs, ltrain_r, c = 'green', label = 'train_acc_r')\n",
    "plt.semilogx(Cs, ltest_r, c = 'blue', label = 'test_acc(val)_r')\n",
    "plt.ylabel(\"Accuracy\")\n",
    "plt.xlabel(\"C\")\n",
    "plt.title(\"Kernel rbf (gaussiano)\")\n",
    "plt.legend()\n",
    "plt.show()\n",
    "\n",
    "#####\n",
    "print(\"\\nMáximo test_acc kernel=rbf (gaussiano): \"+str(round(max(ltest_r),4)) + \", C óptimo: \"+ str(round(Cs[ltest_r.index(max(ltest_r))],4)))\n",
    "print(\"\\t train_acc kernel=rbf (gaussiano): \"+str(round(ltrain_r[ltest_r.index(max(ltest_r))],4)))"
   ]
  },
  {
   "cell_type": "code",
   "execution_count": 97,
   "metadata": {},
   "outputs": [
    {
     "name": "stderr",
     "output_type": "stream",
     "text": [
      "C:\\Users\\FAMILIA\\Anaconda3\\lib\\site-packages\\sklearn\\svm\\base.py:193: FutureWarning: The default value of gamma will change from 'auto' to 'scale' in version 0.22 to account better for unscaled features. Set gamma explicitly to 'auto' or 'scale' to avoid this warning.\n",
      "  \"avoid this warning.\", FutureWarning)\n"
     ]
    },
    {
     "data": {
      "text/plain": [
       "0.392156862745098"
      ]
     },
     "execution_count": 97,
     "metadata": {},
     "output_type": "execute_result"
    }
   ],
   "source": [
    "#SVM kernel rbf (gaussiano) regularizado C = 1000\n",
    "model, train_acc, test_acc = do_SVM(features_train,labels_train,features_val,labels_val, param = 1000,kernel=\"rbf\")\n",
    "\n",
    "y_pred = model.predict(features_val)\n",
    "f1_score(labels_val, y_pred, average='binary')"
   ]
  },
  {
   "cell_type": "code",
   "execution_count": 84,
   "metadata": {},
   "outputs": [],
   "source": [
    "from sklearn.tree import DecisionTreeClassifier as Tree\n",
    "def do_Tree(x,y,xv,yv, param_d=None, param_m=2):\n",
    "    model= Tree()\n",
    "    #print(\"Param Max-D= \",param_d, 'Min-samples-S= ', param_m)\n",
    "    model.set_params(max_depth=param_d, min_samples_split=param_m) \n",
    "    model.fit(x,y)\n",
    "    train_acc = model.score(x,y)\n",
    "    test_acc = model.score(xv,yv)\n",
    "    return model, train_acc, test_acc\n",
    "Depths = np.arange(1,features_train.shape[0]/10, 10) #choose steps\n",
    "SamplesS = np.arange(2, features_train.shape[0] , 10 ) #choose steps\n",
    "\n",
    "\n",
    "ltrain = np.zeros(shape=(Depths.shape[0],SamplesS.shape[0])) \n",
    "ltest  = np.zeros(shape=(Depths.shape[0],SamplesS.shape[0])) \n",
    "for i in range(Depths.shape[0]):\n",
    "    for j in range(SamplesS.shape[0]):\n",
    "        model, train_acc, test_acc = do_Tree(features_train,labels_train,features_val,labels_val, param_d = Depths[i], param_m=SamplesS[j])\n",
    "        ltrain[i][j] = train_acc\n",
    "        ltest[i][j]  = test_acc"
   ]
  },
  {
   "cell_type": "code",
   "execution_count": 85,
   "metadata": {},
   "outputs": [
    {
     "name": "stdout",
     "output_type": "stream",
     "text": [
      "Máximo test_acc: 0.9164, Max depth óptimo: 21.0 Min samples óptimo: 12\n",
      "\t train_acc: 0.9617\n"
     ]
    },
    {
     "data": {
      "image/png": "[encoded data removed]",
      "text/plain": [
       "<Figure size 1440x432 with 4 Axes>"
      ]
     },
     "metadata": {
      "needs_background": "light"
     },
     "output_type": "display_data"
    }
   ],
   "source": [
    "%matplotlib inline\n",
    "#test = np.asarray(zs_train,).reshape(200,200)\n",
    "#print(len(xs_train))\n",
    "\n",
    "plt.figure(figsize=(20,6))\n",
    "\n",
    "plt.subplot(121)\n",
    "plt.pcolormesh(SamplesS,Depths,ltrain)#,vmin=0, vmax=1)\n",
    "plt.title(\"Train Accuracy\")\n",
    "plt.xlabel(\"Min samples\")\n",
    "plt.ylabel(\"Max depth\")\n",
    "plt.colorbar()\n",
    "\n",
    "plt.subplot(122)\n",
    "plt.pcolormesh(SamplesS,Depths,ltest)#,vmin=0, vmax=1)\n",
    "plt.title(\"Test(val) Accuracy\")\n",
    "plt.xlabel(\"Min samples\")\n",
    "plt.ylabel(\"Max depth\")\n",
    "plt.colorbar()\n",
    "\n",
    "m = -1\n",
    "k = -1\n",
    "l = -1\n",
    "\n",
    "for i in range(Depths.shape[0]):\n",
    "    for j in range(SamplesS.shape[0]):\n",
    "        if ltest[i][j] > m:\n",
    "            m = ltest[i][j]\n",
    "            k = i\n",
    "            l = j\n",
    "\n",
    "print(\"Máximo test_acc: \"+str(round(m,4)) + \", Max depth óptimo: \"+ str(round(Depths[k],4)) + \" Min samples óptimo: \"+ str(round(SamplesS[l],4)))\n",
    "print(\"\\t train_acc: \"+str(round(ltrain[k][l],4)))"
   ]
  },
  {
   "cell_type": "code",
   "execution_count": 86,
   "metadata": {},
   "outputs": [],
   "source": [
    "#arbol de decision regularizado max_depth = ,min_samples_split = \n",
    "model, train_acc, test_acc = do_Tree(features_train,labels_train,features_val,labels_val, param_d = 21, param_m=12)"
   ]
  },
  {
   "cell_type": "code",
   "execution_count": 87,
   "metadata": {},
   "outputs": [
    {
     "data": {
      "text/plain": [
       "0.4410646387832699"
      ]
     },
     "execution_count": 87,
     "metadata": {},
     "output_type": "execute_result"
    }
   ],
   "source": [
    "y_pred = model.predict(features_val)\n",
    "f1_score(labels_val, y_pred, average='binary')"
   ]
  },
  {
   "cell_type": "code",
   "execution_count": 96,
   "metadata": {},
   "outputs": [
    {
     "data": {
      "image/png": "[encoded data removed]",
      "text/plain": [
       "<Figure size 720x360 with 1 Axes>"
      ]
     },
     "metadata": {
      "needs_background": "light"
     },
     "output_type": "display_data"
    },
    {
     "name": "stdout",
     "output_type": "stream",
     "text": [
      "Máximo test_acc: 0.9, K óptimo: 11\n",
      "\t train_acc: 0.92\n"
     ]
    }
   ],
   "source": [
    "from sklearn.neighbors import KNeighborsClassifier\n",
    "def do_KNN(x,y,xv,yv, param):\n",
    "    model = KNeighborsClassifier()\n",
    "    #print(\"Param K= \",param)\n",
    "    model.set_params(n_neighbors=param)\n",
    "    model.fit(x,y)\n",
    "    train_acc = model.score(x,y)\n",
    "    test_acc = model.score(xv,yv)\n",
    "    return model, train_acc, test_acc\n",
    "Ks = np.arange(1, features_train.shape[0], 5)\n",
    "\n",
    "ltrain = list()\n",
    "ltest  = list()\n",
    "for i in Ks:\n",
    "    model, train_acc, test_acc = do_KNN(features_train,labels_train,features_val,labels_val, param = i)\n",
    "    ltrain.append(train_acc)\n",
    "    ltest.append(test_acc)\n",
    "    \n",
    "plt.figure(figsize=(10,5))\n",
    "plt.plot(Ks, ltrain, c = 'green', label = 'train_acc')\n",
    "plt.plot(Ks, ltest, c = 'blue', label = 'test_acc(val)')\n",
    "plt.legend()\n",
    "plt.show()\n",
    "\n",
    "print(\"Máximo test_acc: \"+str(round(max(ltest),2)) + \", K óptimo: \"+ str(round(Ks[ltest.index(max(ltest))],2)))\n",
    "print(\"\\t train_acc: \"+str(round(ltrain[ltest.index(max(ltest))],2)))"
   ]
  },
  {
   "cell_type": "code",
   "execution_count": 99,
   "metadata": {},
   "outputs": [
    {
     "data": {
      "text/plain": [
       "0.12631578947368421"
      ]
     },
     "execution_count": 99,
     "metadata": {},
     "output_type": "execute_result"
    }
   ],
   "source": [
    "#KNN regularizado con K = 11\n",
    "model, train_acc, test_acc = do_KNN(features_train,labels_train,features_val,labels_val, param = 11)\n",
    "\n",
    "y_pred = model.predict(features_val)\n",
    "f1_score(labels_val, y_pred, average='binary')"
   ]
  },
  {
   "cell_type": "markdown",
   "metadata": {},
   "source": [
    "> El archivo de submission debe contener las predicciones de harassment (0 o 1) a cada dato de pruebas, además de la columna de id asociado al dato, iniciando en 1. Si leyó de manera ordenada el archivo de pruebas, se puede generar de la siguiente manera:"
   ]
  },
  {
   "cell_type": "code",
   "execution_count": null,
   "metadata": {},
   "outputs": [],
   "source": [
    "df_aux = pd.DataFrame()\n",
    "df_aux[\"id\"] = np.arange(1, 1+y_pred.shape[0])\n",
    "df_aux[\"harassment\"] = y_pred.astype('int')\n",
    "df_aux.to_csv(\"test_estimation.csv\", index=False)"
   ]
  }
 ],
 "metadata": {
  "kernelspec": {
   "display_name": "Python 3",
   "language": "python",
   "name": "python3"
  },
  "language_info": {
   "codemirror_mode": {
    "name": "ipython",
    "version": 3
   },
   "file_extension": ".py",
   "mimetype": "text/x-python",
   "name": "python",
   "nbconvert_exporter": "python",
   "pygments_lexer": "ipython3",
   "version": "3.7.3"
  }
 },
 "nbformat": 4,
 "nbformat_minor": 2
}
